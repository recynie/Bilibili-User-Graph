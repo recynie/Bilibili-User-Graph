{
 "cells": [
  {
   "cell_type": "code",
   "execution_count": 1,
   "metadata": {},
   "outputs": [],
   "source": [
    "from bilibili_api import user,Credential,settings\n",
    "import json\n",
    "\n",
    "settings.proxy = \"http://127.0.0.1:7890\"\n",
    "with open('my_redential.json','r') as f:\n",
    "    cre_param=json.load(f)\n",
    "CRE=Credential(**cre_param)"
   ]
  },
  {
   "cell_type": "code",
   "execution_count": 2,
   "metadata": {},
   "outputs": [
    {
     "ename": "ResponseCodeException",
     "evalue": "接口返回错误代码：-352，信息：-352。\n{'code': -352, 'message': '-352', 'ttl': 1}",
     "output_type": "error",
     "traceback": [
      "\u001b[0;31m---------------------------------------------------------------------------\u001b[0m",
      "\u001b[0;31mResponseCodeException\u001b[0m                     Traceback (most recent call last)",
      "Cell \u001b[0;32mIn[2], line 4\u001b[0m\n\u001b[1;32m      2\u001b[0m UID\u001b[38;5;241m=\u001b[39m\u001b[38;5;241m176421741\u001b[39m\n\u001b[1;32m      3\u001b[0m u\u001b[38;5;241m=\u001b[39muser\u001b[38;5;241m.\u001b[39mUser(uid\u001b[38;5;241m=\u001b[39m\u001b[38;5;241m176421741\u001b[39m,credential\u001b[38;5;241m=\u001b[39mCRE)\n\u001b[0;32m----> 4\u001b[0m resp\u001b[38;5;241m=\u001b[39m\u001b[38;5;28;01mawait\u001b[39;00m u\u001b[38;5;241m.\u001b[39mget_followers()\n\u001b[1;32m      5\u001b[0m resp\n",
      "File \u001b[0;32m~/miniconda3/envs/bili/lib/python3.13/site-packages/bilibili_api/user.py:785\u001b[0m, in \u001b[0;36mUser.get_followers\u001b[0;34m(self, pn, ps, desc)\u001b[0m\n\u001b[1;32m    777\u001b[0m api \u001b[38;5;241m=\u001b[39m API[\u001b[38;5;124m\"\u001b[39m\u001b[38;5;124minfo\u001b[39m\u001b[38;5;124m\"\u001b[39m][\u001b[38;5;124m\"\u001b[39m\u001b[38;5;124mfollowers\u001b[39m\u001b[38;5;124m\"\u001b[39m]\n\u001b[1;32m    778\u001b[0m params \u001b[38;5;241m=\u001b[39m {\n\u001b[1;32m    779\u001b[0m     \u001b[38;5;124m\"\u001b[39m\u001b[38;5;124mvmid\u001b[39m\u001b[38;5;124m\"\u001b[39m: \u001b[38;5;28mself\u001b[39m\u001b[38;5;241m.\u001b[39m__uid,\n\u001b[1;32m    780\u001b[0m     \u001b[38;5;124m\"\u001b[39m\u001b[38;5;124mps\u001b[39m\u001b[38;5;124m\"\u001b[39m: ps,\n\u001b[1;32m    781\u001b[0m     \u001b[38;5;124m\"\u001b[39m\u001b[38;5;124mpn\u001b[39m\u001b[38;5;124m\"\u001b[39m: pn,\n\u001b[1;32m    782\u001b[0m     \u001b[38;5;124m\"\u001b[39m\u001b[38;5;124morder\u001b[39m\u001b[38;5;124m\"\u001b[39m: \u001b[38;5;124m\"\u001b[39m\u001b[38;5;124mdesc\u001b[39m\u001b[38;5;124m\"\u001b[39m \u001b[38;5;28;01mif\u001b[39;00m desc \u001b[38;5;28;01melse\u001b[39;00m \u001b[38;5;124m\"\u001b[39m\u001b[38;5;124masc\u001b[39m\u001b[38;5;124m\"\u001b[39m,\n\u001b[1;32m    783\u001b[0m }\n\u001b[1;32m    784\u001b[0m \u001b[38;5;28;01mreturn\u001b[39;00m (\n\u001b[0;32m--> 785\u001b[0m     \u001b[38;5;28;01mawait\u001b[39;00m Api(\u001b[38;5;241m*\u001b[39m\u001b[38;5;241m*\u001b[39mapi, credential\u001b[38;5;241m=\u001b[39m\u001b[38;5;28mself\u001b[39m\u001b[38;5;241m.\u001b[39mcredential)\u001b[38;5;241m.\u001b[39mupdate_params(\u001b[38;5;241m*\u001b[39m\u001b[38;5;241m*\u001b[39mparams)\u001b[38;5;241m.\u001b[39mresult\n\u001b[1;32m    786\u001b[0m )\n",
      "File \u001b[0;32m~/miniconda3/envs/bili/lib/python3.13/site-packages/bilibili_api/utils/network.py:274\u001b[0m, in \u001b[0;36mApi.result\u001b[0;34m(self)\u001b[0m\n\u001b[1;32m    268\u001b[0m \u001b[38;5;250m\u001b[39m\u001b[38;5;124;03m\"\"\"\u001b[39;00m\n\u001b[1;32m    269\u001b[0m \u001b[38;5;124;03m异步获取请求结果\u001b[39;00m\n\u001b[1;32m    270\u001b[0m \n\u001b[1;32m    271\u001b[0m \u001b[38;5;124;03m`self.__result` 用来暂存数据 参数不变时获取结果不变\u001b[39;00m\n\u001b[1;32m    272\u001b[0m \u001b[38;5;124;03m\"\"\"\u001b[39;00m\n\u001b[1;32m    273\u001b[0m \u001b[38;5;28;01mif\u001b[39;00m \u001b[38;5;28mself\u001b[39m\u001b[38;5;241m.\u001b[39m__result \u001b[38;5;129;01mis\u001b[39;00m \u001b[38;5;28;01mNone\u001b[39;00m:\n\u001b[0;32m--> 274\u001b[0m     \u001b[38;5;28mself\u001b[39m\u001b[38;5;241m.\u001b[39m__result \u001b[38;5;241m=\u001b[39m \u001b[38;5;28;01mawait\u001b[39;00m \u001b[38;5;28mself\u001b[39m\u001b[38;5;241m.\u001b[39mrequest()\n\u001b[1;32m    275\u001b[0m \u001b[38;5;28;01mreturn\u001b[39;00m \u001b[38;5;28mself\u001b[39m\u001b[38;5;241m.\u001b[39m__result\n",
      "File \u001b[0;32m~/miniconda3/envs/bili/lib/python3.13/site-packages/bilibili_api/utils/network.py:174\u001b[0m, in \u001b[0;36mretry.<locals>.wrapper.<locals>.inner\u001b[0;34m(*args, **kwargs)\u001b[0m\n\u001b[1;32m    172\u001b[0m loop \u001b[38;5;241m-\u001b[39m\u001b[38;5;241m=\u001b[39m \u001b[38;5;241m1\u001b[39m\n\u001b[1;32m    173\u001b[0m \u001b[38;5;28;01mtry\u001b[39;00m:\n\u001b[0;32m--> 174\u001b[0m     \u001b[38;5;28;01mreturn\u001b[39;00m \u001b[38;5;28;01mawait\u001b[39;00m func(\u001b[38;5;241m*\u001b[39margs, \u001b[38;5;241m*\u001b[39m\u001b[38;5;241m*\u001b[39mkwargs)\n\u001b[1;32m    175\u001b[0m \u001b[38;5;28;01mexcept\u001b[39;00m json\u001b[38;5;241m.\u001b[39mdecoder\u001b[38;5;241m.\u001b[39mJSONDecodeError:\n\u001b[1;32m    176\u001b[0m     \u001b[38;5;66;03m# json 解析错误 说明数据获取有误 再给次机会\u001b[39;00m\n\u001b[1;32m    177\u001b[0m     \u001b[38;5;28;01mcontinue\u001b[39;00m\n",
      "File \u001b[0;32m~/miniconda3/envs/bili/lib/python3.13/site-packages/bilibili_api/utils/network.py:565\u001b[0m, in \u001b[0;36mApi.request\u001b[0;34m(self, raw, byte, **kwargs)\u001b[0m\n\u001b[1;32m    563\u001b[0m \u001b[38;5;28;01mif\u001b[39;00m byte:\n\u001b[1;32m    564\u001b[0m     \u001b[38;5;28;01mreturn\u001b[39;00m \u001b[38;5;28;01mawait\u001b[39;00m resp\u001b[38;5;241m.\u001b[39mread()\n\u001b[0;32m--> 565\u001b[0m real_data \u001b[38;5;241m=\u001b[39m \u001b[38;5;28;43mself\u001b[39;49m\u001b[38;5;241;43m.\u001b[39;49m\u001b[43m_process_response\u001b[49m\u001b[43m(\u001b[49m\n\u001b[1;32m    566\u001b[0m \u001b[43m    \u001b[49m\u001b[43mresp\u001b[49m\u001b[43m,\u001b[49m\u001b[43m \u001b[49m\u001b[38;5;28;43;01mawait\u001b[39;49;00m\u001b[43m \u001b[49m\u001b[38;5;28;43mself\u001b[39;49m\u001b[38;5;241;43m.\u001b[39;49m\u001b[43m_get_resp_text\u001b[49m\u001b[43m(\u001b[49m\u001b[43mresp\u001b[49m\u001b[43m)\u001b[49m\u001b[43m,\u001b[49m\u001b[43m \u001b[49m\u001b[43mraw\u001b[49m\u001b[38;5;241;43m=\u001b[39;49m\u001b[43mraw\u001b[49m\n\u001b[1;32m    567\u001b[0m \u001b[43m\u001b[49m\u001b[43m)\u001b[49m\n\u001b[1;32m    568\u001b[0m \u001b[38;5;28;01mreturn\u001b[39;00m real_data\n",
      "File \u001b[0;32m~/miniconda3/envs/bili/lib/python3.13/site-packages/bilibili_api/utils/network.py:612\u001b[0m, in \u001b[0;36mApi._process_response\u001b[0;34m(self, resp, resp_text, raw)\u001b[0m\n\u001b[1;32m    610\u001b[0m         \u001b[38;5;28;01mif\u001b[39;00m msg \u001b[38;5;129;01mis\u001b[39;00m \u001b[38;5;28;01mNone\u001b[39;00m:\n\u001b[1;32m    611\u001b[0m             msg \u001b[38;5;241m=\u001b[39m \u001b[38;5;124m\"\u001b[39m\u001b[38;5;124m接口未返回错误信息\u001b[39m\u001b[38;5;124m\"\u001b[39m\n\u001b[0;32m--> 612\u001b[0m         \u001b[38;5;28;01mraise\u001b[39;00m ResponseCodeException(code, msg, resp_data)\n\u001b[1;32m    613\u001b[0m \u001b[38;5;28;01melif\u001b[39;00m OK \u001b[38;5;241m!=\u001b[39m \u001b[38;5;241m1\u001b[39m:\n\u001b[1;32m    614\u001b[0m     \u001b[38;5;28;01mraise\u001b[39;00m ResponseCodeException(\u001b[38;5;241m-\u001b[39m\u001b[38;5;241m1\u001b[39m, \u001b[38;5;124m\"\u001b[39m\u001b[38;5;124mAPI 返回数据 OK 不为 1\u001b[39m\u001b[38;5;124m\"\u001b[39m, resp_data)\n",
      "\u001b[0;31mResponseCodeException\u001b[0m: 接口返回错误代码：-352，信息：-352。\n{'code': -352, 'message': '-352', 'ttl': 1}"
     ]
    }
   ],
   "source": [
    "## user resp example\n",
    "UID=176421741\n",
    "u=user.User(uid=176421741,credential=CRE)\n",
    "resp=await u.get_followers()\n",
    "resp\n"
   ]
  },
  {
   "cell_type": "code",
   "execution_count": null,
   "metadata": {},
   "outputs": [],
   "source": [
    "\n",
    "u=user.User(uid=UID,credential=CRE)\n",
    "resp=await u.get_followings()\n",
    "resp=await u.get_all_followings()\n",
    "resp=await u.get_followers()\n",
    "resp=await u.get_relation_info()\n",
    "# resp=await u.get_user_info()   #! -352 error *\n",
    "resp"
   ]
  },
  {
   "cell_type": "code",
   "execution_count": null,
   "metadata": {},
   "outputs": [],
   "source": [
    "from pyvis.network import Network\n",
    "from typing import Literal\n",
    "from bilibili_api.errors import ResponseCodeException\n",
    "import networkx as nx\n",
    "from tqdm import tqdm\n",
    "import random\n",
    "\n",
    "class UserGraph(nx.DiGraph):\n",
    "\n",
    "    def __init__(self,credential=CRE,incoming_graph_data=None, **attr):\n",
    "        super().__init__(incoming_graph_data, **attr)\n",
    "        self.cre=credential\n",
    "\n",
    "    @staticmethod\n",
    "    def _attr_lst_mapping(attr_lst:list[dict],key_map:dict[str,str]):\n",
    "        mapped_attr_lst=[]\n",
    "        for old_key,new_key in key_map.items():\n",
    "            for attr_dct in attr_lst:\n",
    "                attr_copy=attr_dct.copy()\n",
    "                if old_key in attr_copy:\n",
    "                    attr_copy[new_key]=str(attr_copy[old_key])\n",
    "                    mapped_attr_lst.append(attr_copy)\n",
    "        return mapped_attr_lst\n",
    "    \n",
    "    @staticmethod\n",
    "    def _attr_filter(attr_dct:dict,keys=['mid','uname','folloer','following']):\n",
    "        return {k:v for k,v in attr_dct.items() if k in keys}\n",
    "\n",
    "    def _as_pyvis(self) -> Network:\n",
    "        pv_net=Network(directed=True,notebook=True,cdn_resources='in_line')\n",
    "        pv_net.from_nx(self)\n",
    "        return pv_net\n",
    "    def save_html(self,path='graph.tmp.html'):\n",
    "        pv_net=self._as_pyvis()\n",
    "        pv_net.toggle_physics(True)\n",
    "        pv_net.show_buttons(filter_=['physics'])\n",
    "        return pv_net.show(path)\n",
    "    \n",
    "    def add_relation_list(self,\n",
    "                      source,\n",
    "                      follow_type:Literal['->','<-'],\n",
    "                      uids=[]\n",
    "                      ):\n",
    "        if follow_type=='->':\n",
    "            edges_to_add = [(source, uid) for uid in uids]\n",
    "        elif follow_type=='<-':\n",
    "            edges_to_add = [(uid, source) for uid in uids]\n",
    "        else:\n",
    "            raise ValueError\n",
    "        \n",
    "        self.add_edges_from(edges_to_add)\n",
    "\n",
    "    def add_user(self,info_with_uid:list[dict]):\n",
    "        for info_dct in info_with_uid:\n",
    "            self.add_node(info_dct['mid'],**info_dct)\n",
    "    \n",
    "    def add_relation(self,u_info:int|dict,v_info:int|dict):\n",
    "        u=u_info if isinstance(u_info,int) else u_info['mid']\n",
    "        v=v_info if isinstance(v_info,int) else v_info['mid']\n",
    "        self.add_edge(u,v)\n",
    "        if isinstance(u_info,dict):\n",
    "            self.nodes[u].update(u_info)\n",
    "        if isinstance(v_info,dict):\n",
    "            self.nodes[v].update(v_info)\n",
    "    \n",
    "    def info_as_title(self,sep:str='\\n',keys=('mid','uname','following','follower')):\n",
    "        for node,attr in self.nodes(data=True):\n",
    "            l=[f'{k}={attr[k]}' for k in keys if k in attr]\n",
    "            title=sep.join(l)\n",
    "            self.nodes[node]['title']=title\n",
    "            # self.add_node(node,title=title)\n",
    "    def info_as_label(self,sep:str=',',keys=['uname']):\n",
    "        for node,attr in self.nodes(data=True):\n",
    "            l=[f'{attr[k]}' for k in keys if k in attr]\n",
    "            label=sep.join(l)\n",
    "            self.nodes[node]['label']=label\n",
    "\n",
    "    async def update_follow_info(self):\n",
    "        for node in self.nodes:\n",
    "            u=user.User(node,credential=self.cre)\n",
    "            resp=await u.get_relation_info()\n",
    "            info={k:v for k,v in resp.items() if k in ('uname','following','follower')}\n",
    "            self.add_node(node,**info)\n",
    "\n",
    "    async def extend_relations(self,max_user=100):\n",
    "        fler_list=[]\n",
    "        flin_list=[]\n",
    "        k = min(max_user,len(self.nodes))\n",
    "        nodes=random.sample(list(self.nodes),k)\n",
    "        for node in tqdm(nodes,desc='requesting',unit='user',miniters=0):\n",
    "            u=user.User(node,credential=self.cre)\n",
    "            try:\n",
    "                fler_resp=await u.get_followers()\n",
    "                flin_resp=await u.get_followings()\n",
    "            except ResponseCodeException as e:\n",
    "                # print(f'{node}:{e.msg}')\n",
    "                continue\n",
    "            for fler_dct in fler_resp['list']:\n",
    "                fler_list.append(self._attr_filter(fler_dct))\n",
    "            for flin_dct in flin_resp['list']:\n",
    "                flin_list.append(self._attr_filter(flin_dct))\n",
    "        for fler_dct in tqdm(fler_list,desc='adding followers',unit='user'):\n",
    "            self.add_relation(fler_dct,node)\n",
    "        for flin_dct in tqdm(flin_list,desc='adding followings',unit='user'):\n",
    "            self.add_relation(node,flin_dct)\n"
   ]
  },
  {
   "cell_type": "markdown",
   "metadata": {},
   "source": [
    "available attr in pyvis: lable title group(int) size(int)"
   ]
  },
  {
   "cell_type": "code",
   "execution_count": null,
   "metadata": {},
   "outputs": [],
   "source": [
    "## add edges\n",
    "g=UserGraph()\n",
    "\n",
    "g.add_node(176421741)\n",
    "await g.extend_relations()\n",
    "await g.extend_relations()\n",
    "await g.extend_relations(max_user=300)\n",
    "print('-'*20)\n",
    "await g.update_follow_info()\n",
    "print('*'*20)\n"
   ]
  },
  {
   "cell_type": "code",
   "execution_count": null,
   "metadata": {},
   "outputs": [],
   "source": [
    "## viz\n",
    "g.info_as_label()\n",
    "g.info_as_title()\n",
    "g.save_html()"
   ]
  },
  {
   "cell_type": "code",
   "execution_count": null,
   "metadata": {},
   "outputs": [],
   "source": [
    "nx.write_gexf(g,'graph.tmp.gexf')"
   ]
  }
 ],
 "metadata": {
  "kernelspec": {
   "display_name": "bili",
   "language": "python",
   "name": "python3"
  },
  "language_info": {
   "codemirror_mode": {
    "name": "ipython",
    "version": 3
   },
   "file_extension": ".py",
   "mimetype": "text/x-python",
   "name": "python",
   "nbconvert_exporter": "python",
   "pygments_lexer": "ipython3",
   "version": "3.13.0"
  }
 },
 "nbformat": 4,
 "nbformat_minor": 2
}
